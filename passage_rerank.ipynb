{
 "cells": [
  {
   "cell_type": "code",
   "execution_count": null,
   "metadata": {},
   "outputs": [],
   "source": [
    "from FlagEmbedding import LightWeightFlagLLMReranker\n",
    "from financerag.rerank import CrossEncoderReranker\n",
    "import financerag.tasks as tasks_module\n",
    "\n",
    "import importlib\n",
    "import inspect\n",
    "import os\n",
    "import json\n",
    "import pandas as pd\n",
    "import logging\n",
    "\n",
    "logging.basicConfig(level=logging.INFO)"
   ]
  },
  {
   "cell_type": "code",
   "execution_count": null,
   "metadata": {},
   "outputs": [],
   "source": [
    "passage_retrieval = ['FinDER', 'FinQABench', 'FinanceBench']"
   ]
  },
  {
   "cell_type": "code",
   "execution_count": null,
   "metadata": {},
   "outputs": [],
   "source": [
    "RERANKER = 'BAAI/bge-reranker-v2.5-gemma2-lightweight'\n",
    "\n",
    "reranker_name = RERANKER.split('/')[-1]\n",
    "\n",
    "reranker = LightWeightFlagLLMReranker(RERANKER, use_fp16=True) # Setting use_fp16 to True speeds up computation with a slight performance degradation\n",
    "reranker = CrossEncoderReranker(model = reranker)"
   ]
  },
  {
   "cell_type": "code",
   "execution_count": null,
   "metadata": {},
   "outputs": [],
   "source": [
    "for task_class in passage_retrieval:\n",
    "    retrieval_dir = f'./hybrid'    \n",
    "    task_class_obj = getattr(tasks_module, task_class)\n",
    "    finder_task = task_class_obj()\n",
    "\n",
    "    file_name = f\"{retrieval_dir}/{task_class}_mm_best_cc.json\"\n",
    "    \n",
    "    with open(file_name, \"r\") as json_file:\n",
    "        retrieval_result = json.load(json_file)\n",
    "    \n",
    "    rerank_result = finder_task.rerank(\n",
    "        reranker=reranker,\n",
    "        results=retrieval_result,\n",
    "        top_k=100,  \n",
    "        batch_size=4\n",
    "    )\n",
    "    \n",
    "    with open(f'./rerank/{task_class}_rerank.json', \"w\") as json_file:\n",
    "        json.dump(rerank_result, json_file, indent=4)\n",
    "        \n",
    "    # Retrieval vs Rerank\n",
    "    # Comparison and evaluation to determine the final outcome.\n",
    "    df = pd.read_csv(f'./eval/{task_class}_qrels.tsv', sep='\\t')\n",
    "    qrels_dict = df.groupby('query_id').apply(lambda x: dict(zip(x['corpus_id'], x['score']))).to_dict()\n",
    "    \n",
    "    retrieval_score = finder_task.evaluate(qrels_dict, retrieval_result, [1, 5, 10])\n",
    "    retrieval_ndcg = retrieval_score[0]['NDCG@10']\n",
    "\n",
    "    rerank_score = finder_task.evaluate(qrels_dict, rerank_result, [1, 5, 10])\n",
    "    rerank_ndcg = rerank_score[0]['NDCG@10']\n",
    "    \n",
    "    if retrieval_ndcg <= rerank_ndcg:\n",
    "        with open(f'./final/{task_class}_final.json', \"w\") as json_file:\n",
    "            json.dump(rerank_result, json_file, indent=4)\n",
    "    else:\n",
    "        with open(f'./final/{task_class}_final.json', \"w\") as json_file:\n",
    "            json.dump(retrieval_result, json_file, indent=4)"
   ]
  }
 ],
 "metadata": {
  "kaggle": {
   "accelerator": "gpu",
   "dataSources": [
    {
     "databundleVersionId": 9767247,
     "sourceId": 85594,
     "sourceType": "competition"
    }
   ],
   "dockerImageVersionId": 30775,
   "isGpuEnabled": true,
   "isInternetEnabled": true,
   "language": "python",
   "sourceType": "notebook"
  },
  "kernelspec": {
   "display_name": "Python 3 (ipykernel)",
   "language": "python",
   "name": "python3"
  },
  "language_info": {
   "codemirror_mode": {
    "name": "ipython",
    "version": 3
   },
   "file_extension": ".py",
   "mimetype": "text/x-python",
   "name": "python",
   "nbconvert_exporter": "python",
   "pygments_lexer": "ipython3",
   "version": "3.11.4"
  }
 },
 "nbformat": 4,
 "nbformat_minor": 4
}
