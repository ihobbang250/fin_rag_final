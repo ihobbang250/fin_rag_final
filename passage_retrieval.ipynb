{
 "cells": [
  {
   "cell_type": "code",
   "execution_count": null,
   "metadata": {},
   "outputs": [],
   "source": [
    "from sentence_transformers import CrossEncoder\n",
    "import logging\n",
    "from financerag.retrieval import DenseRetrieval, SentenceTransformerEncoder\n",
    "import financerag.tasks as tasks_module\n",
    "\n",
    "from transformers import AutoConfig\n",
    "\n",
    "import importlib\n",
    "import inspect\n",
    "import os\n",
    "import json\n",
    "import pandas as pd\n",
    "  \n",
    "logging.basicConfig(level=logging.INFO)"
   ]
  },
  {
   "cell_type": "code",
   "execution_count": null,
   "metadata": {},
   "outputs": [],
   "source": [
    "passage_retrieval = ['FinDER', 'FinQABench', 'FinanceBench']"
   ]
  },
  {
   "cell_type": "code",
   "execution_count": null,
   "metadata": {},
   "outputs": [],
   "source": [
    "ENCODER = 'bennegeek/stella_en_1.5B_v5'\n",
    "#ENCODER = 'rbhatia46/financial-rag-matryoshka'\n",
    "encoder_name = ENCODER.split('/')[-1]\n",
    "\n",
    "encoder_model = SentenceTransformerEncoder(\n",
    "    model_name_or_path = ENCODER,\n",
    "    query_prompt= \"Instruct: Given a financial question, relevant passages that best answer the question. \\nQuery: \",\n",
    "    doc_prompt=\"Passage: \",\n",
    "    trust_remote_code=True,\n",
    ")\n",
    "\n",
    "retrieval_model = DenseRetrieval(\n",
    "    model=encoder_model,\n",
    "    batch_size=8,\n",
    ")"
   ]
  },
  {
   "cell_type": "code",
   "execution_count": null,
   "metadata": {},
   "outputs": [],
   "source": [
    "output_dir = f'./{encoder_name}'\n",
    "os.makedirs(output_dir, exist_ok=True)\n",
    "\n",
    "for task_class in passage_retrieval:\n",
    "    task_class_obj = getattr(tasks_module, task_class)\n",
    "    finder_task = task_class_obj()\n",
    "    \n",
    "    retrieval_result = finder_task.retrieve(\n",
    "        retriever=retrieval_model,\n",
    "        top_k=500,\n",
    "    )\n",
    "\n",
    "    \n",
    "    file_name = f\"{output_dir}/{task_class}.json\"\n",
    "                \n",
    "    with open(file_name, \"w\") as json_file:\n",
    "        json.dump(retrieval_result, json_file, indent=4)\n",
    "    \n",
    "    #save eval result\n",
    "    df = pd.read_csv(f'./eval/{task_class}_qrels.tsv', sep='\\t')\n",
    "    \n",
    "    # Convert the TSV data into a dictionary format for evaluation\n",
    "    qrels_dict = df.groupby('query_id').apply(lambda x: dict(zip(x['corpus_id'], x['score']))).to_dict()\n",
    "    \n",
    "    eval_result = finder_task.evaluate(qrels_dict, retrieval_result, [1, 5, 10])\n",
    "    combined_result = {**eval_result[0], **eval_result[1], **eval_result[2], **eval_result[3]}\n",
    "    df_eval = pd.DataFrame([combined_result])\n",
    "    df_eval.to_csv(f'{output_dir}/{task_class}_eval.csv', index=False)"
   ]
  }
 ],
 "metadata": {
  "kaggle": {
   "accelerator": "gpu",
   "dataSources": [
    {
     "databundleVersionId": 9767247,
     "sourceId": 85594,
     "sourceType": "competition"
    }
   ],
   "dockerImageVersionId": 30775,
   "isGpuEnabled": true,
   "isInternetEnabled": true,
   "language": "python",
   "sourceType": "notebook"
  },
  "kernelspec": {
   "display_name": "Python 3 (ipykernel)",
   "language": "python",
   "name": "python3"
  },
  "language_info": {
   "codemirror_mode": {
    "name": "ipython",
    "version": 3
   },
   "file_extension": ".py",
   "mimetype": "text/x-python",
   "name": "python",
   "nbconvert_exporter": "python",
   "pygments_lexer": "ipython3",
   "version": "3.11.4"
  }
 },
 "nbformat": 4,
 "nbformat_minor": 4
}
