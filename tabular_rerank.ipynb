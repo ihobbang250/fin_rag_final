{
 "cells": [
  {
   "cell_type": "code",
   "execution_count": null,
   "id": "17a6a564-b35e-4eb5-bba0-96bbe2616ce4",
   "metadata": {},
   "outputs": [],
   "source": [
    "import pandas as pd\n",
    "import json\n",
    "import voyageai\n",
    "import torch\n",
    "import time\n",
    "import logging\n",
    "from tqdm import tqdm\n",
    "import financerag.tasks as tasks_module"
   ]
  },
  {
   "cell_type": "code",
   "execution_count": null,
   "id": "aaaac2c0-c05d-4791-bf19-c3eaa35f80b2",
   "metadata": {},
   "outputs": [],
   "source": [
    "tabular_retrieval = ['TATQA', 'FinQA', 'ConvFinQA', 'MultiHiertt']"
   ]
  },
  {
   "cell_type": "code",
   "execution_count": null,
   "id": "88c7d352-560f-4031-bd07-823b427ef25d",
   "metadata": {},
   "outputs": [],
   "source": [
    "vo = voyageai.Client(api_key=\"\")"
   ]
  },
  {
   "cell_type": "code",
   "execution_count": null,
   "id": "9e0aadf4-9d97-4de5-b0c0-d11cff87d105",
   "metadata": {},
   "outputs": [],
   "source": [
    "## Rerank\n",
    "\n",
    "#For Request Limits\n",
    "BATCH_SIZE = 7\n",
    "SLEEP_DURATION = 55\n",
    "\n",
    "for task_class in tabular_retrieval:\n",
    "    task_class_obj = getattr(tasks_module, task_class)\n",
    "    finder_task = task_class_obj()\n",
    "\n",
    "    retrieval_path = f\"./hybrid_search/{task_class}_mm_best_cc.json\"\n",
    "    \n",
    "    with open(retrieval_path, \"r\") as f:\n",
    "        retrieval_result = json.load(f)\n",
    "        query_ids = list(retrieval_result.keys())\n",
    "    \n",
    "    queries = pd.read_csv(f\"./data/{task_class}_queries.csv\")\n",
    "    corpus = pd.read_csv(f\"./data/{task_class}_corpus.csv\")\n",
    "    corpus = corpus.drop_duplicates(subset='_id').reset_index(drop=True)\n",
    "    \n",
    "    rerank_result = {}\n",
    "    \n",
    "    for i, query_id in enumerate(tqdm(query_ids, desc=f\"Processing task {task_class}\")):\n",
    "        if i > 0 and i % BATCH_SIZE == 0:\n",
    "            print(f\"Processed {i} queries, resting for {SLEEP_DURATION} seconds...\")\n",
    "            time.sleep(SLEEP_DURATION)\n",
    "\n",
    "        doc_scores = sorted(retrieval_result[query_id].items(), key=lambda x: x[1], reverse=True)[:100]\n",
    "        doc_ids = [doc_id for doc_id, _ in doc_scores]\n",
    "\n",
    "        documents = corpus.set_index('_id').loc[doc_ids]['text'].tolist()\n",
    "        query = queries[queries['_id'] == query_id]['text'].values[0]\n",
    "        rerank = vo.rerank(query, documents, model=\"rerank-2\", top_k=10, truncation=False)\n",
    "        rerank_doc_ids = [doc_ids[r.index] for r in rerank.results]\n",
    "        rerank_result[query_id] = {doc_id: r.relevance_score for doc_id, r in zip(rerank_doc_ids, rerank.results)}\n",
    "\n",
    "    # save rerank\n",
    "    output_path = f\"./rerank/{task_class}_rerank.json\"\n",
    "    with open(output_path, \"w\") as f:\n",
    "        json.dump(rerank_result, f, indent=4)\n",
    "\n",
    "    # Retrieval vs Rerank\n",
    "    # Comparison and evaluation to determine the final outcome.\n",
    "    df = pd.read_csv(f'./eval/{task_class}_qrels.tsv', sep='\\t')\n",
    "    qrels_dict = df.groupby('query_id').apply(lambda x: dict(zip(x['corpus_id'], x['score']))).to_dict()\n",
    "    \n",
    "    retrieval_score = finder_task.evaluate(qrels_dict, retrieval_result, [1, 5, 10])\n",
    "    retrieval_ndcg = retrieval_score[0]['NDCG@10']\n",
    "\n",
    "    rerank_score = finder_task.evaluate(qrels_dict, rerank_result, [1, 5, 10])\n",
    "    rerank_ndcg = rerank_score[0]['NDCG@10']\n",
    "    \n",
    "    if retrieval_ndcg <= rerank_ndcg:\n",
    "        with open(f'./final/{task_class}_final.json', \"w\") as json_file:\n",
    "            json.dump(rerank_result, json_file, indent=4)\n",
    "    else:\n",
    "        with open(f'./final/{task_class}_final.json', \"w\") as json_file:\n",
    "            json.dump(retrieval_result, json_file, indent=4)"
   ]
  }
 ],
 "metadata": {
  "kernelspec": {
   "display_name": "Python 3 (ipykernel)",
   "language": "python",
   "name": "python3"
  },
  "language_info": {
   "codemirror_mode": {
    "name": "ipython",
    "version": 3
   },
   "file_extension": ".py",
   "mimetype": "text/x-python",
   "name": "python",
   "nbconvert_exporter": "python",
   "pygments_lexer": "ipython3",
   "version": "3.11.4"
  }
 },
 "nbformat": 4,
 "nbformat_minor": 5
}
