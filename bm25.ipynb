{
 "cells": [
  {
   "cell_type": "code",
   "execution_count": null,
   "metadata": {},
   "outputs": [],
   "source": [
    "import logging\n",
    "from financerag.retrieval import BM25Retriever\n",
    "import financerag.tasks as tasks_module\n",
    "\n",
    "import importlib\n",
    "import inspect\n",
    "import os\n",
    "import json\n",
    "import pandas as pd\n",
    "\n",
    "from nltk.tokenize import word_tokenize, TweetTokenizer\n",
    "from rank_bm25 import BM25Okapi\n",
    "import nltk\n",
    "\n",
    "tweet_tokenizer = TweetTokenizer()\n",
    "logging.basicConfig(level=logging.INFO)"
   ]
  },
  {
   "cell_type": "code",
   "execution_count": null,
   "metadata": {},
   "outputs": [],
   "source": [
    "retrieval = ['FinDER', 'FinQABench', 'FinanceBench', 'TATQA', 'FinQA', 'ConvFinQA', 'MultiHiertt']\n",
    "tabular_retrieval = ['TATQA', 'FinQA', 'ConvFinQA', 'MultiHiertt']"
   ]
  },
  {
   "cell_type": "code",
   "execution_count": null,
   "metadata": {},
   "outputs": [],
   "source": [
    "output_dir = './BM25'\n",
    "os.makedirs(output_dir, exist_ok=True)\n",
    "\n",
    "def process_task(task_class, corpus_documents, output_dir, finder_task):\n",
    "    # Tokenize corpus\n",
    "    tokenized_corpus = [tweet_tokenizer.tokenize(doc) for doc in corpus_documents]\n",
    "    \n",
    "    # Initialize BM25 and retrieval model\n",
    "    bm25_model = BM25Okapi(tokenized_corpus)\n",
    "    retrieval_model = BM25Retriever(bm25_model, tweet_tokenizer.tokenize)\n",
    "    \n",
    "    # Retrieve documents\n",
    "    retrieval_result = finder_task.retrieve(\n",
    "        retriever=retrieval_model,\n",
    "        top_k=500\n",
    "    )\n",
    "    \n",
    "    # Save retrieval result\n",
    "    file_name = f\"{output_dir}/{task_class}.json\"\n",
    "    with open(file_name, \"w\") as json_file:\n",
    "        json.dump(retrieval_result, json_file, indent=4)\n",
    "    \n",
    "    # Save evaluation result\n",
    "    df = pd.read_csv(f'./eval/{task_class.split(\"_\")[0]}_qrels.tsv', sep='\\t')\n",
    "    qrels_dict = df.groupby('query_id').apply(lambda x: dict(zip(x['corpus_id'], x['score']))).to_dict()\n",
    "    \n",
    "    eval_result = finder_task.evaluate(qrels_dict, retrieval_result, [1, 5, 10])\n",
    "    combined_result = {**eval_result[0], **eval_result[1], **eval_result[2], **eval_result[3]}\n",
    "    df_eval = pd.DataFrame([combined_result])\n",
    "    df_eval.to_csv(f'{output_dir}/{task_class.split(\"_\")[0]}_eval.csv', index=False)\n",
    "\n",
    "\n",
    "for task_class in retrieval:\n",
    "    if task_class in tabular_retrieval:\n",
    "    task_class_obj = getattr(tasks_module, task_class)\n",
    "    finder_task = task_class_obj()\n",
    "\n",
    "    corpus = pd.read_csv(f\"./data/{task_class}_corpus_convert.csv\")\n",
    "    \n",
    "    for version, column_name in [(\"original\", \"text\"), (\"convert\", \"convert_text\")]:\n",
    "        corpus_documents = corpus[column_name].str.lower().tolist()\n",
    "        \n",
    "        process_task(f\"{task_class}_{version}\", corpus_documents, output_dir, finder_task)\n",
    "    else:\n",
    "        corpus_documents = [doc['text'].lower() for doc in finder_task.corpus.values()]\n",
    "        process_task(task_class, corpus_documents, output_dir, finder_task)"
   ]
  }
 ],
 "metadata": {
  "kaggle": {
   "accelerator": "gpu",
   "dataSources": [
    {
     "databundleVersionId": 9767247,
     "sourceId": 85594,
     "sourceType": "competition"
    }
   ],
   "dockerImageVersionId": 30775,
   "isGpuEnabled": true,
   "isInternetEnabled": true,
   "language": "python",
   "sourceType": "notebook"
  },
  "kernelspec": {
   "display_name": "Python 3 (ipykernel)",
   "language": "python",
   "name": "python3"
  },
  "language_info": {
   "codemirror_mode": {
    "name": "ipython",
    "version": 3
   },
   "file_extension": ".py",
   "mimetype": "text/x-python",
   "name": "python",
   "nbconvert_exporter": "python",
   "pygments_lexer": "ipython3",
   "version": "3.11.4"
  }
 },
 "nbformat": 4,
 "nbformat_minor": 4
}
