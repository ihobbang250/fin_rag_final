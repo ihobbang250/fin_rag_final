{
 "cells": [
  {
   "cell_type": "code",
   "execution_count": null,
   "metadata": {},
   "outputs": [],
   "source": [
    "from tqdm import tqdm\n",
    "from openai import OpenAI\n",
    "import os\n",
    "import json\n",
    "import pandas as pd\n",
    "import re\n",
    "import time"
   ]
  },
  {
   "cell_type": "code",
   "execution_count": null,
   "metadata": {},
   "outputs": [],
   "source": [
    "def generate_output(system_prompt, user_prompt):\n",
    "    client = OpenAI(api_key=\"\")\n",
    "    \n",
    "    response = client.chat.completions.create(\n",
    "        model=\"gpt-4o-mini\",\n",
    "        messages=[\n",
    "            {\"role\": \"system\", \"content\": system_prompt},\n",
    "            {\"role\": \"user\", \"content\": user_prompt}\n",
    "        ],\n",
    "        temperature=0\n",
    "    )\n",
    "\n",
    "    text = response.choices[0].message.content\n",
    "\n",
    "    return text\n",
    "\n",
    "\n",
    "\n",
    "global call_count\n",
    "call_count = 0\n",
    "\n",
    "# MultiHiertt\n",
    "def replace_multi_table(text):\n",
    "    call_count = 0\n",
    "    instruction = \"Retrieve all facts in the following table as natural language descriptions, without introductory phrases.\"\n",
    "    \n",
    "    table_pattern = r'(\\|.*\\|(?:\\n\\|.*\\|)+)'\n",
    "    tables = re.findall(table_pattern, text)\n",
    "    \n",
    "    for table in tables:\n",
    "        replace_table = generate_output(instruction, table)\n",
    "        text = text.replace(table, replace_table)\n",
    "        \n",
    "        call_count += 1\n",
    "        if call_count % 1000 == 0: \n",
    "            time.sleep(60)  # Pause for 1 minute\n",
    "        \n",
    "    return text\n",
    "\n",
    "\n",
    "def replace_table(text):\n",
    "    global call_count\n",
    "    instruction = \"Retrieve all facts in the following table as natural language descriptions, without introductory phrases.\"\n",
    "\n",
    "    table_lines = re.findall(r\".*\\|.*\", text)\n",
    "    table_text = \"\\n\".join(table_lines)\n",
    "    \n",
    "    replace_text = generate_output(instruction, table_text)\n",
    "    text = text.replace(table_text, replace_text)\n",
    "    \n",
    "    call_count += 1\n",
    "    if call_count % 1000 == 0: \n",
    "        time.sleep(60)  # Pause for 1 minute\n",
    "        \n",
    "    return text"
   ]
  },
  {
   "cell_type": "code",
   "execution_count": null,
   "metadata": {},
   "outputs": [],
   "source": [
    "tqdm.pandas()\n",
    "\n",
    "tabular_retrieval = ['TATQA', 'FinQA', 'ConvFinQA', 'MultiHiertt']\n",
    "                     \n",
    "for task in tabular_retrieval:\n",
    "    data = pd.read_csv(f\"./data/{task}_corpus.csv\")\n",
    "    data = data.dropna(subset=[\"text\"]).reset_index(drop=True)\n",
    "    \n",
    "    if task == 'MultiHiertt':\n",
    "        data['convert_text'] = data['text'].progress_apply(replace_multi_table)\n",
    "    else:\n",
    "        data['convert_text'] = data['text'].progress_apply(replace_table)\n",
    "    \n",
    "    #Save\n",
    "    data.to_csv(f\"./data/{task}_corpus_convert.csv\", index=False)"
   ]
  }
 ],
 "metadata": {
  "kaggle": {
   "accelerator": "gpu",
   "dataSources": [
    {
     "databundleVersionId": 9767247,
     "sourceId": 85594,
     "sourceType": "competition"
    }
   ],
   "dockerImageVersionId": 30775,
   "isGpuEnabled": true,
   "isInternetEnabled": true,
   "language": "python",
   "sourceType": "notebook"
  },
  "kernelspec": {
   "display_name": "Python 3 (ipykernel)",
   "language": "python",
   "name": "python3"
  },
  "language_info": {
   "codemirror_mode": {
    "name": "ipython",
    "version": 3
   },
   "file_extension": ".py",
   "mimetype": "text/x-python",
   "name": "python",
   "nbconvert_exporter": "python",
   "pygments_lexer": "ipython3",
   "version": "3.11.4"
  }
 },
 "nbformat": 4,
 "nbformat_minor": 4
}
