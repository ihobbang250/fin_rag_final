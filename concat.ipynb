{
 "cells": [
  {
   "cell_type": "code",
   "execution_count": 16,
   "id": "75b759bc-2210-463d-8f9e-3d45fb57dae0",
   "metadata": {},
   "outputs": [],
   "source": [
    "import pandas as pd\n",
    "import os\n",
    "import json\n",
    "\n",
    "retrieval = ['FinDER', 'FinQABench', 'FinanceBench', 'TATQA', 'FinQA', 'ConvFinQA', 'MultiHiertt']\n",
    "\n",
    "rows = []\n",
    "\n",
    "for task in retrieval:\n",
    "    with open(f\"./final/{task}_final.json\", 'r', encoding='utf-8') as f:\n",
    "        loaded_data = json.load(f)\n",
    "        \n",
    "    top_10_result = {\n",
    "    query_id: dict(sorted(scores.items(), key=lambda item: item[1], reverse=True)[:10])\n",
    "    for query_id, scores in loaded_data.items()\n",
    "    }\n",
    "    \n",
    "    for query_id, corpus in top_10_result.items():\n",
    "        for corpus_id in corpus.keys():\n",
    "            rows.append({'query_id': query_id, 'corpus_id': corpus_id})\n",
    "        \n",
    "df = pd.DataFrame(rows)\n",
    "df.to_csv(f\"./final/final_submission.csv\", index=False)"
   ]
  }
 ],
 "metadata": {
  "kernelspec": {
   "display_name": "Python 3 (ipykernel)",
   "language": "python",
   "name": "python3"
  },
  "language_info": {
   "codemirror_mode": {
    "name": "ipython",
    "version": 3
   },
   "file_extension": ".py",
   "mimetype": "text/x-python",
   "name": "python",
   "nbconvert_exporter": "python",
   "pygments_lexer": "ipython3",
   "version": "3.11.4"
  }
 },
 "nbformat": 4,
 "nbformat_minor": 5
}
